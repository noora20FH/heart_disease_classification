{
  "nbformat": 4,
  "nbformat_minor": 0,
  "metadata": {
    "colab": {
      "provenance": [],
      "include_colab_link": true
    },
    "kernelspec": {
      "name": "python3",
      "display_name": "Python 3"
    },
    "language_info": {
      "name": "python"
    }
  },
  "cells": [
    {
      "cell_type": "markdown",
      "metadata": {
        "id": "view-in-github",
        "colab_type": "text"
      },
      "source": [
        "<a href=\"https://colab.research.google.com/github/noora20FH/heart_disease_classification/blob/main/heart_disease_classification_spark.ipynb\" target=\"_parent\"><img src=\"https://colab.research.google.com/assets/colab-badge.svg\" alt=\"Open In Colab\"/></a>"
      ]
    },
    {
      "cell_type": "markdown",
      "source": [
        "Source https://www.kaggle.com/datasets/kamilpytlak/personal-key-indicators-of-heart-disease "
      ],
      "metadata": {
        "id": "3EsG47XxCyni"
      }
    },
    {
      "cell_type": "markdown",
      "source": [
        "#Heart Disease Prediction - A Classification Problem using PySpark\n",
        "##Objective:\n",
        "The main objective of this small project was to implement a machine learning pipeline using PySpark after taking the udemy course Spark and Python for Big Data using Pyspark\n",
        "All of the methods used may be done fairly efficiently without the need of Spark by utilizing packages such as Scikit-learn.\n",
        "##Topics and Methods Covered:\n",
        "\n",
        "*   Pyspark\n",
        "*   Data Visualization\n",
        "*   Exploratory Data Analysis\n",
        "*   Sampling for Unbalanced Datasets\n",
        "\n",
        "\n",
        "*   Classification Algorithms:\n",
        "  * Logistic Regression\n",
        "  *   Random Forest Classifier\n",
        "  *   Naive Bayes\n",
        "*   Evaluation of classification models\n",
        "\n",
        "##Objective of the Analysis:\n",
        "Develop a model capable of detecting people who may have undetected heart disease based on other health related metrics."
      ],
      "metadata": {
        "id": "tJMTkOdfMrWw"
      }
    },
    {
      "cell_type": "code",
      "source": [
        "pip install pyspark"
      ],
      "metadata": {
        "colab": {
          "base_uri": "https://localhost:8080/"
        },
        "id": "DNPWitPiCXK1",
        "outputId": "28f3991b-0c2e-44b2-9484-9aa81e12e02a"
      },
      "execution_count": 1,
      "outputs": [
        {
          "output_type": "stream",
          "name": "stdout",
          "text": [
            "Looking in indexes: https://pypi.org/simple, https://us-python.pkg.dev/colab-wheels/public/simple/\n",
            "Collecting pyspark\n",
            "  Downloading pyspark-3.4.0.tar.gz (310.8 MB)\n",
            "\u001b[2K     \u001b[90m━━━━━━━━━━━━━━━━━━━━━━━━━━━━━━━━━━━━━━━\u001b[0m \u001b[32m310.8/310.8 MB\u001b[0m \u001b[31m3.4 MB/s\u001b[0m eta \u001b[36m0:00:00\u001b[0m\n",
            "\u001b[?25h  Preparing metadata (setup.py) ... \u001b[?25l\u001b[?25hdone\n",
            "Requirement already satisfied: py4j==0.10.9.7 in /usr/local/lib/python3.10/dist-packages (from pyspark) (0.10.9.7)\n",
            "Building wheels for collected packages: pyspark\n",
            "  Building wheel for pyspark (setup.py) ... \u001b[?25l\u001b[?25hdone\n",
            "  Created wheel for pyspark: filename=pyspark-3.4.0-py2.py3-none-any.whl size=311317130 sha256=c2bfd53d721c60a6a3047f8d3aabb898998e4d8771bdf5e9aeb7894ef67df598\n",
            "  Stored in directory: /root/.cache/pip/wheels/7b/1b/4b/3363a1d04368e7ff0d408e57ff57966fcdf00583774e761327\n",
            "Successfully built pyspark\n",
            "Installing collected packages: pyspark\n",
            "Successfully installed pyspark-3.4.0\n"
          ]
        }
      ]
    },
    {
      "cell_type": "code",
      "source": [],
      "metadata": {
        "id": "jPb5Sxz_CONn"
      },
      "execution_count": 3,
      "outputs": []
    },
    {
      "cell_type": "code",
      "source": [
        "from google.colab import drive\n",
        "\n",
        "\n",
        "#Access my google drive\n",
        "drive.mount('/content/drive')"
      ],
      "metadata": {
        "colab": {
          "base_uri": "https://localhost:8080/"
        },
        "id": "6vlcUFanDiaJ",
        "outputId": "7f21a0c3-3a43-4ffd-b154-a88ba7ea4cfc"
      },
      "execution_count": 2,
      "outputs": [
        {
          "output_type": "stream",
          "name": "stdout",
          "text": [
            "Mounted at /content/drive\n"
          ]
        }
      ]
    },
    {
      "cell_type": "code",
      "source": [
        "import pandas as pd\n",
        "import numpy as np"
      ],
      "metadata": {
        "id": "vBsHBhzADoD_"
      },
      "execution_count": 3,
      "outputs": []
    },
    {
      "cell_type": "code",
      "source": [
        "#imports and setup\n",
        "from pyspark.sql import SparkSession\n",
        "from pyspark.ml.feature import (VectorAssembler, OneHotEncoder, StringIndexer)\n",
        "from pyspark.ml import Pipeline\n",
        "from pyspark.ml.classification import (LogisticRegression, RandomForestClassifier, NaiveBayes)\n",
        "from pyspark.sql.functions import (col, explode, array, lit)\n",
        "from pyspark.ml.evaluation import (BinaryClassificationEvaluator, MulticlassClassificationEvaluator)\n",
        "from pyspark.mllib.evaluation import MulticlassMetrics\n",
        "from pyspark.sql.types import FloatType\n",
        "import pyspark.sql.functions as F\n",
        " \n",
        "import seaborn as sns\n",
        "import numpy as np\n",
        "import matplotlib.pyplot as plt\n",
        " \n",
        "spark = SparkSession.builder.appName('HeartDiseaseClassification').getOrCreate()\n",
        "\n"
      ],
      "metadata": {
        "id": "_ePiAcK6E6pj"
      },
      "execution_count": 4,
      "outputs": []
    },
    {
      "cell_type": "markdown",
      "source": [
        "#Reading Data\n",
        "Data originates from a CDC telephone survey on American Citizens. There's a significant volume of data - around 400k individuals."
      ],
      "metadata": {
        "id": "sqdLa8EcOdet"
      }
    },
    {
      "cell_type": "code",
      "source": [
        "from pyspark.sql import SparkSession\n",
        "\n",
        "spark = SparkSession.builder.appName('HeartDiseaseClassification').getOrCreate()\n",
        "\n",
        "heartdf = spark.read.csv('/content/drive/MyDrive/TUGAS_NOORA/heart_2020_cleaned.csv', inferSchema=True, header=True)\n",
        "\n",
        "print(\"Original Dataset (Rows:Columns): \")\n",
        "print((heartdf.count(), len(heartdf.columns)))\n",
        "\n",
        "heartdf.show(5)  # Display first 5 rows of the DataFrame"
      ],
      "metadata": {
        "colab": {
          "base_uri": "https://localhost:8080/"
        },
        "id": "Wcr8rWf2Rx8-",
        "outputId": "f93f08c9-6c37-483e-a615-9685e699e7db"
      },
      "execution_count": 25,
      "outputs": [
        {
          "output_type": "stream",
          "name": "stdout",
          "text": [
            "Original Dataset (Rows:Columns): \n",
            "(319795, 18)\n",
            "+------------+-----+-------+---------------+------+--------------+------------+-----------+------+-----------+-----+--------+----------------+---------+---------+------+-------------+----------+\n",
            "|HeartDisease|  BMI|Smoking|AlcoholDrinking|Stroke|PhysicalHealth|MentalHealth|DiffWalking|   Sex|AgeCategory| Race|Diabetic|PhysicalActivity|GenHealth|SleepTime|Asthma|KidneyDisease|SkinCancer|\n",
            "+------------+-----+-------+---------------+------+--------------+------------+-----------+------+-----------+-----+--------+----------------+---------+---------+------+-------------+----------+\n",
            "|          No| 16.6|    Yes|             No|    No|           3.0|        30.0|         No|Female|      55-59|White|     Yes|             Yes|Very good|      5.0|   Yes|           No|       Yes|\n",
            "|          No|20.34|     No|             No|   Yes|           0.0|         0.0|         No|Female|80 or older|White|      No|             Yes|Very good|      7.0|    No|           No|        No|\n",
            "|          No|26.58|    Yes|             No|    No|          20.0|        30.0|         No|  Male|      65-69|White|     Yes|             Yes|     Fair|      8.0|   Yes|           No|        No|\n",
            "|          No|24.21|     No|             No|    No|           0.0|         0.0|         No|Female|      75-79|White|      No|              No|     Good|      6.0|    No|           No|       Yes|\n",
            "|          No|23.71|     No|             No|    No|          28.0|         0.0|        Yes|Female|      40-44|White|      No|             Yes|Very good|      8.0|    No|           No|        No|\n",
            "+------------+-----+-------+---------------+------+--------------+------------+-----------+------+-----------+-----+--------+----------------+---------+---------+------+-------------+----------+\n",
            "only showing top 5 rows\n",
            "\n"
          ]
        }
      ]
    },
    {
      "cell_type": "markdown",
      "source": [
        "##Data Labels\n",
        "The table, as seen above, contains only four numerical columns. Columns are classified into three categories:\n",
        "\n",
        "label: the label of the data ('HeartDisease') used for classification;\n",
        "numerical_cols: the names of the 4 numerical columns;\n",
        "categorical_cols: the remanining nominal columns."
      ],
      "metadata": {
        "id": "xuZpt1wdjdYo"
      }
    },
    {
      "cell_type": "code",
      "source": [
        "label = 'HeartDisease'\n",
        "numerical_cols = ['BMI', 'PhysicalHealth','MentalHealth','SleepTime']\n",
        "categorical_cols = list(set(heartdf.columns) - set(numerical_cols) -set([label]))"
      ],
      "metadata": {
        "id": "xAwxm9uMjc8n"
      },
      "execution_count": 23,
      "outputs": []
    },
    {
      "cell_type": "markdown",
      "source": [
        "#Data Distribution"
      ],
      "metadata": {
        "id": "z0TIeNflQ86K"
      }
    },
    {
      "cell_type": "code",
      "source": [
        "# stats of numerical variables\n",
        "heartdf.select(numerical_cols).describe().show()"
      ],
      "metadata": {
        "colab": {
          "base_uri": "https://localhost:8080/"
        },
        "id": "7RkEvRvtRAb2",
        "outputId": "98c275e6-7ffa-42f0-b78b-c81bef5b8dd2"
      },
      "execution_count": 26,
      "outputs": [
        {
          "output_type": "stream",
          "name": "stdout",
          "text": [
            "+-------+------------------+------------------+-----------------+------------------+\n",
            "|summary|               BMI|    PhysicalHealth|     MentalHealth|         SleepTime|\n",
            "+-------+------------------+------------------+-----------------+------------------+\n",
            "|  count|            319795|            319795|           319795|            319795|\n",
            "|   mean|28.325398520925706|3.3717100017198516|3.898366140808956| 7.097074688472302|\n",
            "| stddev| 6.356100200470763| 7.950850182571355|7.955235218943604|1.4360070609642803|\n",
            "|    min|             12.02|               0.0|              0.0|               1.0|\n",
            "|    max|             94.85|              30.0|             30.0|              24.0|\n",
            "+-------+------------------+------------------+-----------------+------------------+\n",
            "\n"
          ]
        }
      ]
    },
    {
      "cell_type": "code",
      "source": [
        "# check number of observations of differente samples\n",
        "heartdf.groupBy(label).count().toPandas().plot.bar(x='HeartDisease', rot=0, title='Number of Observations per label')"
      ],
      "metadata": {
        "colab": {
          "base_uri": "https://localhost:8080/",
          "height": 489
        },
        "id": "ep2Eth8MVSrK",
        "outputId": "c28706c4-fd29-4989-b599-af8dc6ce034b"
      },
      "execution_count": 27,
      "outputs": [
        {
          "output_type": "execute_result",
          "data": {
            "text/plain": [
              "<Axes: title={'center': 'Number of Observations per label'}, xlabel='HeartDisease'>"
            ]
          },
          "metadata": {},
          "execution_count": 27
        },
        {
          "output_type": "display_data",
          "data": {
            "text/plain": [
              "<Figure size 640x480 with 1 Axes>"
            ],
            "image/png": "[encoded data removed]"
          },
          "metadata": {}
        }
      ]
    },
    {
      "cell_type": "markdown",
      "source": [
        "#Preparing Data for Classification Models"
      ],
      "metadata": {
        "id": "cIlDyatbVcHE"
      }
    },
    {
      "cell_type": "markdown",
      "source": [
        "##Working with an Unbalanced Dataset. Oversampling Smallest Class\n",
        "As can be seen above, this dataset is extremely imbalanced. This is frequent in disease-related datasets.\n",
        "\n",
        "In this section, I will perform oversampling on the smaller class to lessen the bias of the classification models."
      ],
      "metadata": {
        "id": "22USNUOnVgTO"
      }
    },
    {
      "cell_type": "code",
      "source": [
        "\n",
        "#splitting data into train and test sets before Oversampling\n",
        "train_df, test_df = heartdf.randomSplit([.7,.3])"
      ],
      "metadata": {
        "id": "dCMegVr-VXrZ"
      },
      "execution_count": 29,
      "outputs": []
    },
    {
      "cell_type": "code",
      "source": [
        "#spliting df by classes\n",
        "major_df = train_df.filter(col(label) == 'No')\n",
        "minor_df = train_df.filter(col(label) == 'Yes')\n",
        "#ratio of number observation major vs minor class\n",
        "r = int(major_df.count()/minor_df.count())\n",
        " \n",
        "# duplicate the minority rows\n",
        "oversampled_df = minor_df.withColumn(\"dummy\", explode(array([lit(x) for x in range(r)]))).drop('dummy')\n",
        " \n",
        "# combine both oversampled minority rows and previous majority rows \n",
        "combined_train_df = major_df.unionAll(oversampled_df)\n",
        "                                                           \n",
        "combined_train_df.groupBy(label).count().toPandas().plot.bar(x='HeartDisease', rot=0, title='Number of Observations in Train subset after Oversampling')"
      ],
      "metadata": {
        "colab": {
          "base_uri": "https://localhost:8080/",
          "height": 489
        },
        "id": "bhIa_8ATV9-Y",
        "outputId": "fa555c94-1677-4e1b-d15e-6d2e2a164844"
      },
      "execution_count": 30,
      "outputs": [
        {
          "output_type": "execute_result",
          "data": {
            "text/plain": [
              "<Axes: title={'center': 'Number of Observations in Train subset after Oversampling'}, xlabel='HeartDisease'>"
            ]
          },
          "metadata": {},
          "execution_count": 30
        },
        {
          "output_type": "display_data",
          "data": {
            "text/plain": [
              "<Figure size 640x480 with 1 Axes>"
            ],
            "image/png": "[encoded data removed]"
          },
          "metadata": {}
        }
      ]
    },
    {
      "cell_type": "markdown",
      "source": [
        "##Processing Categorical Columns for Spark Pipeline\n",
        "String columns cannot be used as input to Spark. To address this, I'll need to employ an indexer on these columns, followed by an encoding.\n",
        "\n",
        "I also need to vectorize all the features into a features column after I have all columns with numerical values."
      ],
      "metadata": {
        "id": "SdSMSY41WKVy"
      }
    },
    {
      "cell_type": "code",
      "source": [
        "# Indexers for categorical columns\n",
        "indexers = [StringIndexer(inputCol=col, outputCol=col+'_indexed') for col in categorical_cols]\n",
        "# Encoders for categorical columns\n",
        "encoders = [OneHotEncoder(inputCol=col+'_indexed', outputCol=col+'_encoded') for col in categorical_cols]\n",
        " \n",
        "# Indexer for classification label:\n",
        "label_indexer = StringIndexer(inputCol=label, outputCol=label+'_indexed')"
      ],
      "metadata": {
        "id": "p0ZPqZ4_WFto"
      },
      "execution_count": 31,
      "outputs": []
    },
    {
      "cell_type": "code",
      "source": [
        "#assemble all features as vector to be used as input for Spark MLLib\n",
        "assembler = VectorAssembler(inputCols= [col+'_encoded' for col in categorical_cols] + numerical_cols, outputCol='features')\n",
        "# Creating data processing pipeline\n",
        "pipeline = Pipeline(stages= indexers + encoders + [label_indexer, assembler])\n"
      ],
      "metadata": {
        "id": "cbMfMFvlWRFz"
      },
      "execution_count": 33,
      "outputs": []
    },
    {
      "cell_type": "markdown",
      "source": [
        "#Applying Classification Models\n",
        "Models Implemented:\n",
        "\n",
        "* lr - Logistic Regression\n",
        "\n",
        "* rfc - Random Forest Classifier\n",
        "\n",
        "* nb - Naive Bayes"
      ],
      "metadata": {
        "id": "Quzlq_4HWbOA"
      }
    },
    {
      "cell_type": "code",
      "source": [
        "lr = LogisticRegression(featuresCol='features', labelCol=label+'_indexed')\n",
        "rfc = RandomForestClassifier(featuresCol='features', labelCol=label+'_indexed', numTrees=100)\n",
        "nb = NaiveBayes(featuresCol='features', labelCol=label+'_indexed')"
      ],
      "metadata": {
        "id": "x0iD3kwFWTXI"
      },
      "execution_count": 34,
      "outputs": []
    },
    {
      "cell_type": "code",
      "source": [
        "# creating pipelines with machine learning models\n",
        "pipeline_lr = Pipeline(stages=[pipeline, lr])\n",
        "pipeline_rfc = Pipeline(stages=[pipeline, rfc])\n",
        "pipeline_nb = Pipeline(stages=[pipeline, nb])"
      ],
      "metadata": {
        "id": "ZfLyYlY9WmhT"
      },
      "execution_count": 35,
      "outputs": []
    },
    {
      "cell_type": "code",
      "source": [
        "#fitting models with train subset\n",
        "lr_fit = pipeline_lr.fit(combined_train_df)\n",
        "rfc_fit = pipeline_rfc.fit(combined_train_df)\n",
        "nb_fit = pipeline_nb.fit(combined_train_df)"
      ],
      "metadata": {
        "id": "5-LZRjFCWrGG"
      },
      "execution_count": 36,
      "outputs": []
    },
    {
      "cell_type": "code",
      "source": [
        "\n",
        "# predictions for test subset\n",
        "pred_lr = lr_fit.transform(test_df)\n",
        "pred_rfc = rfc_fit.transform(test_df)\n",
        "pred_nb = nb_fit.transform(test_df)"
      ],
      "metadata": {
        "id": "G8N4wBSRWth2"
      },
      "execution_count": null,
      "outputs": []
    },
    {
      "cell_type": "markdown",
      "source": [
        "##Evaluating Results"
      ],
      "metadata": {
        "id": "zo-WB4kAXAav"
      }
    },
    {
      "cell_type": "markdown",
      "source": [
        "###Area Under Curve - AUC\n",
        "The AUC of a random selection of labels is 0.5. The closer this metric is to one, the better the model predicts the data labels.\n",
        "\n",
        "Regarding this metric, the logistic regression model outperforms the Random Forest Classifier. The Naive Bayes Classifier performed the poorest."
      ],
      "metadata": {
        "id": "t9Lr0v50XGMv"
      }
    },
    {
      "cell_type": "code",
      "source": [
        "pred_AUC = BinaryClassificationEvaluator(rawPredictionCol='prediction', labelCol=label+'_indexed')"
      ],
      "metadata": {
        "id": "fGxpQoESXCHq"
      },
      "execution_count": 37,
      "outputs": []
    },
    {
      "cell_type": "code",
      "source": [
        "AUC_lr = pred_AUC.evaluate(pred_lr)\n",
        "AUC_rfc = pred_AUC.evaluate(pred_rfc)\n",
        "AUC_nb = pred_AUC.evaluate(pred_nb)\n",
        "print(AUC_lr, AUC_rfc, AUC_nb)"
      ],
      "metadata": {
        "id": "fwlO7QhAXKh2"
      },
      "execution_count": null,
      "outputs": []
    },
    {
      "cell_type": "markdown",
      "source": [
        "###Accuracy - A poor Evaluation Metric for Unbalanced Classification\n",
        "Accuracy is a common metric used when evaluating classification problems. It is calculated by\n",
        "\n",
        "(TP + TN) / All Samples\n",
        "\n",
        "​\n",
        " \n",
        "Where TP = True Positives and TN = True Negatives\n",
        "\n",
        "Note that for this particular case this is not the best metric because the Negative label represents the grand majority of the observation.\n",
        "\n",
        "As an extreme example, if I predicted that all observations would be negative for heart disease, the accuracy for this test subgroup would be 91.48 percent.\n",
        "\n",
        "Looking at the results for these three models, the Naive Bayes has the best accuracy while being the lowest performing model in terms of TP. When analyzing these models, special emphasis should be placed on the TP cases."
      ],
      "metadata": {
        "id": "vc8QhWK5XbHi"
      }
    },
    {
      "cell_type": "code",
      "source": [
        "# calculating accuracy for all negative prediction mentioned above\n",
        "acc_all_negative = test_df.filter(test_df[label]=='No').count() / test_df.count()\n",
        "acc_all_negative"
      ],
      "metadata": {
        "id": "RQpmlPZoXSTQ"
      },
      "execution_count": null,
      "outputs": []
    },
    {
      "cell_type": "code",
      "source": [
        "acc_evaluator = MulticlassClassificationEvaluator(labelCol=label+'_indexed', predictionCol=\"prediction\", metricName=\"accuracy\")"
      ],
      "metadata": {
        "id": "SW9nvt-UXxfP"
      },
      "execution_count": null,
      "outputs": []
    },
    {
      "cell_type": "code",
      "source": [
        "acc_lr = acc_evaluator.evaluate(pred_lr)\n",
        "acc_rfc = acc_evaluator.evaluate(pred_rfc)\n",
        "acc_nb = acc_evaluator.evaluate(pred_nb)\n",
        " \n",
        "print('Logistic Regression accuracy: ', '{:.2f}'.format(acc_lr*100), '%', sep='')\n",
        "print('Random Forest accuracy: ', '{:.2f}'.format(acc_rfc*100), '%', sep='')\n",
        "print('Naive Bayes accuracy: ', '{:.2f}'.format(acc_nb*100), '%', sep='')"
      ],
      "metadata": {
        "id": "Lg6Dl9hwX0wz"
      },
      "execution_count": null,
      "outputs": []
    },
    {
      "cell_type": "markdown",
      "source": [
        "###Confusion Matrices"
      ],
      "metadata": {
        "id": "0zPyw0hbX8Kl"
      }
    },
    {
      "cell_type": "code",
      "source": [
        "def confusion_matrix(pred_df):\n",
        "    preds_labels = pred_df.select(['prediction',label+'_indexed']).withColumn(label+'_indexed', F.col(label+'_indexed').cast(FloatType())).orderBy('prediction')\n",
        "    preds_labels = preds_and_labels.select(['prediction',label+'_indexed'])\n",
        "    metrics = MulticlassMetrics(preds_labels.rdd.map(tuple))\n",
        "    return metrics.confusionMatrix().toArray()"
      ],
      "metadata": {
        "id": "6E6y6jO-X77x"
      },
      "execution_count": null,
      "outputs": []
    },
    {
      "cell_type": "code",
      "source": [
        "def confusion_matrix_plot(conf_mat, ax, title = 'Confusion Matrix'):\n",
        "    names = ['True Negative','False Positive','False Negative','True Positive']\n",
        " \n",
        "    number = [\"{0:0.0f}\".format(value) for value in conf_mat.flatten()]\n",
        " \n",
        "    percent = [\"{0:.2%}\".format(value) for value in conf_mat.flatten()/np.sum(conf_mat)]\n",
        " \n",
        "    labels = [f\"{v1}\\n\\n{v2}\\n\\n{v3}\" for v1, v2, v3 in zip(names, number, percent)]\n",
        " \n",
        "    labels = np.asarray(labels).reshape(2,2)\n",
        " \n",
        "    ax = sns.heatmap(conf_mat, annot=labels, fmt='', cmap='Blues', cbar=False, ax=ax)\n",
        " \n",
        "    ax.set_title(title+'\\n');\n",
        "    ax.set_xlabel('\\nPredicted Labels')\n",
        "    ax.set_ylabel('Real Labels');\n",
        " \n",
        "    ax.xaxis.set_ticklabels(['No','Yes'])\n",
        "    ax.yaxis.set_ticklabels(['No','Yes'])\n",
        "    \n",
        "    return ax"
      ],
      "metadata": {
        "id": "cvntJur_YCBS"
      },
      "execution_count": null,
      "outputs": []
    },
    {
      "cell_type": "code",
      "source": [
        "conf_lr = confusion_matrix(pred_lr)\n",
        "conf_rfc = confusion_matrix(pred_rfc)\n",
        "conf_nb = confusion_matrix(pred_nb)"
      ],
      "metadata": {
        "id": "QC5nLhdcYFJl"
      },
      "execution_count": null,
      "outputs": []
    },
    {
      "cell_type": "code",
      "source": [
        "fig, (ax1, ax2, ax3) = plt.subplots(1,3, figsize=(20,5))\n",
        " \n",
        "ax1 = confusion_matrix_plot(conf_lr, ax1,'Logistic Regression - Confusion Matrix')\n",
        "ax2 = confusion_matrix_plot(conf_rfc, ax2,'Random Forest Classifier - Confusion Matrix')\n",
        "ax3 = confusion_matrix_plot(conf_nb, ax3, 'Naive Bayes - Confusion Matrix')\n",
        " \n",
        "plt.show()"
      ],
      "metadata": {
        "id": "av6jqXnwYJVg"
      },
      "execution_count": null,
      "outputs": []
    },
    {
      "cell_type": "markdown",
      "source": [
        "###Sensitivity Metric\n",
        "Sensitivity is the True Positive Rate of the classification:\n",
        "\n",
        "TP / (TP+FN)\n",
        "\n",
        " \n",
        "where TP = True Positive and FN = False Negative.\n",
        "\n",
        "It is a measure of how well the Positive label is predicted."
      ],
      "metadata": {
        "id": "g60liDPmYPhE"
      }
    },
    {
      "cell_type": "code",
      "source": [
        "def sensitivity(conf_mat):\n",
        "    TP = conf_mat[1][1]\n",
        "    FN = conf_mat[1][0]\n",
        "    result = TP / (TP + FN)\n",
        "    return result"
      ],
      "metadata": {
        "id": "RbFZPGbcYJRo"
      },
      "execution_count": null,
      "outputs": []
    },
    {
      "cell_type": "code",
      "source": [
        "\n",
        "print('Logistic Regression sensitivity: ', (sensitivity(conf_lr)*100).round(2), '%', sep='')\n",
        "print('Random Forest sensitivity: ', (sensitivity(conf_rfc)*100).round(2), '%', sep='')\n",
        "print('Naive Bayes sensitivity: ', (sensitivity(conf_nb)*100).round(2), '%', sep='')"
      ],
      "metadata": {
        "id": "nCLGcTQFYY4C"
      },
      "execution_count": null,
      "outputs": []
    },
    {
      "cell_type": "markdown",
      "source": [
        "#Results\n",
        "The best performing model was Logistic Regression;\n",
        "\n",
        "The true positive rate was 77%. This indicates that 77 percent of heart disease patients were appropriately identified;\n",
        "\n",
        "The model's False Positive rate (or Specificity) is high, although lowering this statistic is not the primary goal.\n",
        "\n",
        "Overall, the Logistic Regression model yields useful results (sensitivity higher than 50% = better than random guess). Despite this, 77 percent is still a low percentage for classification algorithms."
      ],
      "metadata": {
        "id": "gZ9C4PoTYfk9"
      }
    }
  ]
}